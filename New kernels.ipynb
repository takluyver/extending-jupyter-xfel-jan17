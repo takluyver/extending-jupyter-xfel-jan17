{
 "cells": [
  {
   "cell_type": "markdown",
   "metadata": {},
   "source": [
    "# Jupyter kernels\n",
    "\n",
    "A kernel is the part that understands and executes code in a particular language. The default kernel which comes with Jupyter is IPython, for Python code.\n",
    "\n",
    "Other kernels include [IJulia](https://github.com/JuliaLang/IJulia.jl), for the Julia language, and [JupyROOT](https://github.com/root-project/root/tree/master/bindings/pyroot/JupyROOT) for CERN's *ROOT* data analysis environment.\n",
    "\n",
    "[Many other kernels](https://github.com/jupyter/jupyter/wiki/Jupyter-kernels) have been written. Their quality varies considerably, but if you want to run a language in Jupyter, see what's already there before writing a new one.\n",
    "\n",
    "If there's no kernel for the language you want, or you're creating a new language or dialect, you can write your own kernel to access it from Jupyter."
   ]
  },
  {
   "cell_type": "markdown",
   "metadata": {},
   "source": [
    "<img alt=\"Native kernels, wrapper kernels, REPL wrapper kernels\" src=\"kernel_models.png\" style=\"width: 800px;\">\n"
   ]
  },
  {
   "cell_type": "markdown",
   "metadata": {},
   "source": [
    "**Native kernels** are the gold standard, but involve the most work. These have their own implementation of the messaging protocol in the target language.\n",
    "\n",
    "<div class=\"alert alert-info\">See [Making kernels for Jupyter](https://jupyter-client.readthedocs.io/en/stable/kernels.html) in the jupyter_client documentation. [Calcurust](https://github.com/takluyver/calcurust) is a simple example of a native kernel written in Rust.</div>\n",
    "\n",
    "**Wrapper kernels** are significantly easier to write, because they reuse the messaging code from IPython. It must be possible to run code in the language from a Python process.\n",
    "\n",
    "<div class=\"alert alert-info\">See [Making simple Python wrapper kernels](https://jupyter-client.readthedocs.io/en/stable/wrapperkernels.html) in the jupyter_client documentation. [echo_kernel](https://github.com/jupyter/echo_kernel/) is a simple example of a wrapper kernel.</div>\n",
    "\n",
    "**REPL wrapper kernels** are a quick way to use a terminal shell as a Jupyter kernel on Unix systems. These kernels tend to be limited, because it's hard to expose things like tab completion, so this option isn't recommended unless the other alternatives aren't possible.\n",
    "\n",
    "<div class=\"alert alert-warning\">[bash_kernel](https://github.com/takluyver/bash_kernel/) is an example of a REPL wrapper, but it's too complex to serve as a clear template.</div>"
   ]
  }
 ],
 "metadata": {
  "kernelspec": {
   "display_name": "Python 3",
   "language": "python",
   "name": "python3"
  },
  "language_info": {
   "codemirror_mode": {
    "name": "ipython",
    "version": 3
   },
   "file_extension": ".py",
   "mimetype": "text/x-python",
   "name": "python",
   "nbconvert_exporter": "python",
   "pygments_lexer": "ipython3",
   "version": "3.5.2"
  }
 },
 "nbformat": 4,
 "nbformat_minor": 2
}
